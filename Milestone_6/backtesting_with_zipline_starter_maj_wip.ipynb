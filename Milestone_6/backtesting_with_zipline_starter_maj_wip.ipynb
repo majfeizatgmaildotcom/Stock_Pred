{
 "cells": [
  {
   "cell_type": "markdown",
   "metadata": {},
   "source": [
    "# Backtesting with zipline - Pipeline API with Custom Data"
   ]
  },
  {
   "cell_type": "markdown",
   "metadata": {},
   "source": [
    "The key steps you need to take to define and backtest a trading strategy and evaluate the results are as follows:\n",
    "1. Call the Zipline function `load_extensions()` to identify the bundle location\n",
    "2. Optionally but helpful: set up logging\n",
    "3. Define the number of long and short positions to take each day.\n",
    "4. Load the bundle data\n",
    "5. Load your model predictions (both in-sample and out-of-sample) generated for the last milestone and replace the tickers with the bundle's `sid` values to allow Zipline to align predictions and price data.\n",
    "6. Subclass the `zipline.pipeline.DataSet` to create a custom `zipline.pipeline.Column` of type `float` for the domain `US_EQUITIES`.\n",
    "7. Define the custom `zipline.pipeline.DataFrameLoader` that will populate the `DataSet` we just created using the model predictions. \n",
    "8. Incorporate the predictions into the `zipline.pipeline.Pipeline` by creating a `zipline.pipeline.CustomFactor` that simply passes the model predictions along\n",
    "9. Create the actual `zipline.pipeline import Pipeline` that receives the model inputs via the `CustomFactor` and selects the target long and short positions based on the model predictions.\n",
    "10. Now we'll define several core components of the algorithm: \n",
    "    - an `initialize()` method that sets environment variables for the algo like the universe and the number of positions, defines commission and slippage, and uses `schedule_function()` to determine when to rebalance the portfolio, i.e., make trades, or to record variables.\n",
    "    - a `before_trading_start()` method that retrieves the current Pipeline values\n",
    "    - a `rebalance()` method that manages the transition from the current portfolio positions to the target holdings implied by the model predictions\n",
    "    - an (optional) `record_vars()` method that stores certain values, such as the actual number of short or long positions\n",
    "11. Now we're ready to call the `run_algorithm()` function to execute the backtest for the target time period; we'll use the first in-sample prediction as start date and the last out-of-sample prediction as end date. We'll pass our `custom_loader` defined above to the parameter of the same name and otherwiese use default values.\n",
    "12. Use the `pyfolio.utils` function `extract_rets_pos_txn_from_zipline` to generate pyfolio inputs from the return values of the `run_algorithm()` function.\n",
    "13. Create a pyfolio tearsheet using these inputs with the date of the first out-of-sample prediction as `live_start_date`.\n",
    "14. Next steps: consider variations in trading frequency, number of positions, or transaction costs - how do they affect the outcome?"
   ]
  },
  {
   "cell_type": "markdown",
   "metadata": {},
   "source": [
    "## Imports & Settings"
   ]
  },
  {
   "cell_type": "code",
   "execution_count": 1,
   "metadata": {
    "ExecuteTime": {
     "end_time": "2020-07-15T02:33:30.058099Z",
     "start_time": "2020-07-15T02:33:30.056232Z"
    }
   },
   "outputs": [],
   "source": [
    "import warnings\n",
    "warnings.filterwarnings('ignore')"
   ]
  },
  {
   "cell_type": "code",
   "execution_count": 2,
   "metadata": {
    "ExecuteTime": {
     "end_time": "2020-07-15T02:33:31.610721Z",
     "start_time": "2020-07-15T02:33:30.421659Z"
    }
   },
   "outputs": [],
   "source": [
    "%matplotlib inline\n",
    "\n",
    "from pathlib import Path\n",
    "from collections import defaultdict\n",
    "from time import time\n",
    "\n",
    "import numpy as np\n",
    "import pandas as pd\n",
    "import pandas_datareader.data as web\n",
    "\n",
    "from logbook import Logger, StderrHandler, INFO, WARNING\n",
    "\n",
    "from zipline import run_algorithm\n",
    "from zipline.api import (attach_pipeline, pipeline_output,\n",
    "                         date_rules, time_rules, record,\n",
    "                         schedule_function, commission, slippage,\n",
    "                         set_slippage, set_commission, set_max_leverage,\n",
    "                         order_target, order_target_percent,\n",
    "                         get_open_orders, cancel_order)\n",
    "from zipline.data import bundles\n",
    "from zipline.utils.run_algo import load_extensions\n",
    "from zipline.pipeline import Pipeline, CustomFactor\n",
    "from zipline.pipeline.data import Column, DataSet\n",
    "from zipline.pipeline.domain import US_EQUITIES\n",
    "from zipline.pipeline.filters import StaticAssets\n",
    "from zipline.pipeline.loaders import USEquityPricingLoader\n",
    "from zipline.pipeline.loaders.frame import DataFrameLoader\n",
    "from trading_calendars import get_calendar\n",
    "\n",
    "import pyfolio as pf\n",
    "from pyfolio.plotting import plot_rolling_returns, plot_rolling_sharpe\n",
    "from pyfolio.timeseries import forecast_cone_bootstrap\n",
    "\n",
    "import matplotlib.pyplot as plt\n",
    "import seaborn as sns"
   ]
  },
  {
   "cell_type": "code",
   "execution_count": 4,
   "metadata": {
    "ExecuteTime": {
     "end_time": "2020-07-15T02:33:33.212110Z",
     "start_time": "2020-07-15T02:33:33.207990Z"
    }
   },
   "outputs": [],
   "source": [
    "DATA_PATH = Path('..', 'data')"
   ]
  },
  {
   "cell_type": "markdown",
   "metadata": {},
   "source": [
    "### Load zipline extensions"
   ]
  },
  {
   "cell_type": "markdown",
   "metadata": {},
   "source": [
    "Only need this in notebook to find bundle."
   ]
  },
  {
   "cell_type": "code",
   "execution_count": 5,
   "metadata": {
    "ExecuteTime": {
     "end_time": "2020-07-15T02:33:33.685652Z",
     "start_time": "2020-07-15T02:33:33.674842Z"
    }
   },
   "outputs": [],
   "source": [
    "load_extensions(default=True,\n",
    "                extensions=[],\n",
    "                strict=True,\n",
    "                environ=None)"
   ]
  },
  {
   "cell_type": "code",
   "execution_count": 6,
   "metadata": {
    "ExecuteTime": {
     "end_time": "2020-07-15T02:33:33.903845Z",
     "start_time": "2020-07-15T02:33:33.899527Z"
    }
   },
   "outputs": [],
   "source": [
    "log_handler = StderrHandler(format_string='[{record.time:%Y-%m-%d %H:%M:%S.%f}]: ' +\n",
    "                            '{record.level_name}: {record.func_name}: {record.message}',\n",
    "                            level=WARNING)\n",
    "log_handler.push_application()\n",
    "log = Logger('Algorithm')"
   ]
  },
  {
   "cell_type": "markdown",
   "metadata": {},
   "source": [
    "## Algo Params"
   ]
  },
  {
   "cell_type": "markdown",
   "metadata": {},
   "source": [
    "## Load Data"
   ]
  },
  {
   "cell_type": "markdown",
   "metadata": {},
   "source": [
    "### Quandl Wiki Bundle"
   ]
  },
  {
   "cell_type": "markdown",
   "metadata": {},
   "source": [
    "### ML Predictions"
   ]
  },
  {
   "cell_type": "markdown",
   "metadata": {},
   "source": [
    "## Pipeline Setup"
   ]
  },
  {
   "cell_type": "markdown",
   "metadata": {},
   "source": [
    "## Initialize Algorithm"
   ]
  },
  {
   "cell_type": "markdown",
   "metadata": {},
   "source": [
    "## Define Rebalancing Logic"
   ]
  },
  {
   "cell_type": "markdown",
   "metadata": {},
   "source": [
    "## Run Algorithm"
   ]
  },
  {
   "cell_type": "markdown",
   "metadata": {},
   "source": [
    "## PyFolio Analysis"
   ]
  }
 ],
 "metadata": {
  "kernelspec": {
   "display_name": "Python 3",
   "language": "python",
   "name": "python3"
  },
  "language_info": {
   "codemirror_mode": {
    "name": "ipython",
    "version": 3
   },
   "file_extension": ".py",
   "mimetype": "text/x-python",
   "name": "python",
   "nbconvert_exporter": "python",
   "pygments_lexer": "ipython3",
   "version": "3.8.5"
  },
  "toc": {
   "base_numbering": 1,
   "nav_menu": {},
   "number_sections": true,
   "sideBar": true,
   "skip_h1_title": true,
   "title_cell": "Table of Contents",
   "title_sidebar": "Contents",
   "toc_cell": false,
   "toc_position": {},
   "toc_section_display": true,
   "toc_window_display": true
  }
 },
 "nbformat": 4,
 "nbformat_minor": 4
}
