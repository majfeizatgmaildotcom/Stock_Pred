{
 "cells": [
  {
   "cell_type": "markdown",
   "metadata": {},
   "source": [
    "# Generating trading signals with Linear Regression"
   ]
  },
  {
   "cell_type": "markdown",
   "metadata": {},
   "source": [
    "This notebook illustrates the following steps:\n",
    "1. **Cross-validation in the time-series context** poses the additional challenge that train and validation sets need to respect the temporal order of the data so that we do not inadvertently train the model on data 'from the future' to predict the past and introduce lookahead bias. Scikit-learn's built-in [TimeSeriesSplit](https://scikit-learn.org/stable/modules/generated/sklearn.model_selection.TimeSeriesSplit.html) aims to accomplish this but does not work for this case where we have multiple time series, one for each ticker. We could solve this by manually subsetting the data for the appropriate train and validation periods. Alternatively, we can create a custom time-series splitter compatible with the scikit-learn Kfold interface (see resources). Here is an [example](https://github.com/stefan-jansen/machine-learning-for-trading/blob/master/utils.py) that illustrates how to do so for this case. This allows us to specify fixed `train_length` and `test_length` parameters, as well as a `lookahead` value that defines the forecast horizon and ensures an appropriate gap between the training and validation set.\n",
    "2. To establish a **baseline**, train a [LinearRegression](https://scikit-learn.org/stable/modules/generated/sklearn.linear_model.LinearRegression.html) using five years of training data to predict rolling windows of three months of returns for the years 2013-2016. Evaluate the results by computing the information coefficient (IC) as the Spearman rank correlation between the predictions and the actual returns, averaged per day.\n",
    "3. Next, we'll use **regularized regression** models that include a penalty term to shrink the coefficients and limit the risk of overfitting. Cross-validate a range of `alpha` penalty values for [Lasso](https://scikit-learn.org/stable/modules/generated/sklearn.linear_model.Lasso.html) and [Ridge](https://scikit-learn.org/stable/modules/generated/sklearn.linear_model.Ridge.html#sklearn.linear_model.Ridge) using the same training and validation periods as for the linear regression baseline and compare their performance."
   ]
  },
  {
   "cell_type": "markdown",
   "metadata": {},
   "source": [
    "> You can also upload and run this notebook in [google collab](https://colab.research.google.com/notebooks/intro.ipynb), just install the packages required by the below imports, mount you Google Drive as described [here](https://buomsoo-kim.github.io/colab/2020/05/09/Colab-mounting-google-drive.md/) and update the `DATA_PATH` to the location on your Google Drive (relative to you mount path) with the `HDFStore` containing the Quandl dataset we created in the first milestone."
   ]
  },
  {
   "cell_type": "markdown",
   "metadata": {},
   "source": [
    "## Imports"
   ]
  }, 
  {
   "cell_type": "code",
   "execution_count": 1,
   "metadata": {
    "ExecuteTime": {
     "end_time": "2022-01-12T22:27:57.773707Z",
     "start_time": "2022-01-12T22:27:57.766901Z"
    }
   },
   "outputs": [],
   "source": [
    "import warnings\n",
    "warnings.filterwarnings('ignore')"
   ]
  },
  {
   "cell_type": "code",
   "execution_count": 2,
   "metadata": {
    "ExecuteTime": {
     "end_time": "2022-01-12T22:27:58.829323Z",
     "start_time": "2022-01-12T22:27:57.904658Z"
    },
    "scrolled": true
   },
   "outputs": [],
   "source": [
    "%matplotlib inline\n",
    "\n",
    "from pathlib import Path\n",
    "import sys, os\n",
    "from time import time\n",
    "from collections import defaultdict\n",
    "from itertools import product\n",
    "\n",
    "import numpy as np\n",
    "import pandas as pd\n",
    "import statsmodels.api as sm\n",
    "\n",
    "from sklearn.linear_model import LinearRegression, Ridge, Lasso\n",
    "from sklearn.preprocessing import MinMaxScaler\n",
    "\n",
    "from scipy.stats import spearmanr\n",
    "\n",
    "import matplotlib.pyplot as plt\n",
    "import seaborn as sns"
   ]
  },
  {
   "cell_type": "markdown",
   "metadata": {},
   "source": [
    "## Settings"
   ]
  },
  {
   "cell_type": "code",
   "execution_count": 3,
   "metadata": {
    "ExecuteTime": {
     "end_time": "2022-01-12T22:28:00.348552Z",
     "start_time": "2022-01-12T22:28:00.342142Z"
    }
   },
   "outputs": [],
   "source": [
    "sns.set_style('whitegrid')"
   ]
  },
  {
   "cell_type": "code",
   "execution_count": 4,
   "metadata": {
    "ExecuteTime": {
     "end_time": "2022-01-12T22:28:00.503707Z",
     "start_time": "2022-01-12T22:28:00.500198Z"
    },
    "scrolled": true
   },
   "outputs": [],
   "source": [
    "np.random.seed(42)"
   ]
  },
  {
   "cell_type": "code",
   "execution_count": 5,
   "metadata": {
    "ExecuteTime": {
     "end_time": "2022-01-12T22:28:00.616843Z",
     "start_time": "2022-01-12T22:28:00.614342Z"
    }
   },
   "outputs": [],
   "source": [
    "idx = pd.IndexSlice"
   ]
  },
  {
   "cell_type": "code",
   "execution_count": 6,
   "metadata": {
    "ExecuteTime": {
     "end_time": "2022-01-12T22:28:00.779506Z",
     "start_time": "2022-01-12T22:28:00.775317Z"
    },
    "scrolled": true
   },
   "outputs": [],
   "source": [
    "YEAR = 252 # days\n",
    "MONTH = 21 # days"
   ]
  },
  {
   "cell_type": "code",
   "execution_count": 7,
   "metadata": {
    "ExecuteTime": {
     "end_time": "2022-01-12T22:28:00.951264Z",
     "start_time": "2022-01-12T22:28:00.947144Z"
    }
   },
   "outputs": [],
   "source": [
    "def format_time(t):\n",
    "    \"\"\"Return a formatted time string 'HH:MM:SS\n",
    "    based on a numeric time() value\"\"\"\n",
    "    m, s = divmod(t, 60)\n",
    "    h, m = divmod(m, 60)\n",
    "    return f'{h:0>2.0f}:{m:0>2.0f}:{s:0>2.0f}'"
   ]
  },
  {
   "cell_type": "markdown",
   "metadata": {},
   "source": [
    "## Get Data"
   ]
  },
  {
   "cell_type": "code",
   "execution_count": 8,
   "metadata": {
    "ExecuteTime": {
     "end_time": "2022-01-12T22:28:02.636194Z",
     "start_time": "2022-01-12T22:28:02.630296Z"
    }
   },
   "outputs": [],
   "source": [
    "DATA_PATH = Path('..', 'data')"
   ]
  },
  {
   "cell_type": "code",
   "execution_count": 9,
   "metadata": {
    "ExecuteTime": {
     "end_time": "2022-01-12T22:28:03.749699Z",
     "start_time": "2022-01-12T22:28:02.759540Z"
    },
    "scrolled": true
   },
   "outputs": [],
   "source": [
    "data = (pd.read_hdf(DATA_PATH / 'stock_prices.h5', 'model_data')\n",
    "        .sort_index())"
   ]
  },
  {
   "cell_type": "code",
   "execution_count": 10,
   "metadata": {
    "ExecuteTime": {
     "end_time": "2022-01-12T22:28:03.868681Z",
     "start_time": "2022-01-12T22:28:03.750719Z"
    }
   },
   "outputs": [
    {
     "name": "stdout",
     "output_type": "stream",
     "text": [
      "<class 'pandas.core.frame.DataFrame'>\n",
      "MultiIndex: 1402295 entries, ('A', Timestamp('2006-01-03 00:00:00')) to ('ZMH', Timestamp('2015-07-02 00:00:00'))\n",
      "Data columns (total 48 columns):\n",
      " #   Column       Non-Null Count    Dtype  \n",
      "---  ------       --------------    -----  \n",
      " 0   ret_01       1401795 non-null  float64\n",
      " 1   ret_03       1400795 non-null  float64\n",
      " 2   ret_05       1399795 non-null  float64\n",
      " 3   ret_10       1397295 non-null  float64\n",
      " 4   ret_21       1391795 non-null  float64\n",
      " 5   ret_42       1381295 non-null  float64\n",
      " 6   ret_63       1370795 non-null  float64\n",
      " 7   ret_126      1339295 non-null  float64\n",
      " 8   ret_252      1276295 non-null  float64\n",
      " 9   ret_fwd      1402295 non-null  float64\n",
      " 10  BB_UP        1392795 non-null  float64\n",
      " 11  BB_LOW       1392795 non-null  float64\n",
      " 12  BB_SQUEEZE   1392795 non-null  float64\n",
      " 13  HT           1370795 non-null  float64\n",
      " 14  SAR          1401795 non-null  float64\n",
      " 15  ADX          1388795 non-null  float64\n",
      " 16  ADXR         1382295 non-null  float64\n",
      " 17  PPO          1389795 non-null  float64\n",
      " 18  AARONOSC     1395295 non-null  float64\n",
      " 19  BOP          1402295 non-null  float64\n",
      " 20  CCI          1395795 non-null  float64\n",
      " 21  MACD         1385795 non-null  float64\n",
      " 22  MACD_SIGNAL  1385795 non-null  float64\n",
      " 23  MACD_HIST    1385795 non-null  float64\n",
      " 24  MFI          1395295 non-null  float64\n",
      " 25  RSI          1395295 non-null  float64\n",
      " 26  STOCHRSI     1387795 non-null  float64\n",
      " 27  STOCH        1393775 non-null  float64\n",
      " 28  ULTOSC       1388295 non-null  float64\n",
      " 29  WILLR        1395795 non-null  float64\n",
      " 30  AD           1402295 non-null  float64\n",
      " 31  ADOSC        1395707 non-null  float64\n",
      " 32  OBV          1402294 non-null  float64\n",
      " 33  ATR          1395295 non-null  float64\n",
      " 34  ALPHA_63     1333088 non-null  float64\n",
      " 35  MARKET_63    1333088 non-null  float64\n",
      " 36  SMB_63       1333088 non-null  float64\n",
      " 37  HML_63       1333088 non-null  float64\n",
      " 38  RMW_63       1333088 non-null  float64\n",
      " 39  CMA_63       1333088 non-null  float64\n",
      " 40  ALPHA_252    1238588 non-null  float64\n",
      " 41  MARKET_252   1238588 non-null  float64\n",
      " 42  SMB_252      1238588 non-null  float64\n",
      " 43  HML_252      1238588 non-null  float64\n",
      " 44  RMW_252      1238588 non-null  float64\n",
      " 45  CMA_252      1238588 non-null  float64\n",
      " 46  month        1402295 non-null  uint8  \n",
      " 47  weekday      1402295 non-null  uint8  \n",
      "dtypes: float64(46), uint8(2)\n",
      "memory usage: 500.4+ MB\n"
     ]
    }
   ],
   "source": [
    "data.info(show_counts=True)"
   ]
  },
  {
   "cell_type": "markdown",
   "metadata": {},
   "source": [
    "To facilitate model formulation, we assign target, features, and categorical variables."
   ]
  },
  {
   "cell_type": "code",
   "execution_count": 13,
   "metadata": {
    "ExecuteTime": {
     "end_time": "2020-07-14T18:18:39.273320Z",
     "start_time": "2020-07-14T18:18:39.270541Z"
    }
   },
   "outputs": [],
   "source": [
    "target = 'ret_fwd'\n",
    "features = data.columns.drop(target)"
   ]
  },
  {
   "cell_type": "code",
   "execution_count": 14,
   "metadata": {
    "ExecuteTime": {
     "end_time": "2020-07-14T18:18:39.283104Z",
     "start_time": "2020-07-14T18:18:39.274213Z"
    }
   },
   "outputs": [],
   "source": [
    "categoricals = ['month', 'weekday']"
   ]
  },
  {
   "cell_type": "markdown",
   "metadata": {},
   "source": [
    "## Custom Time Series Cross-Validation"
   ]
  },
  {
   "cell_type": "markdown",
   "metadata": {},
   "source": [
    "Our data consists of numerous time series, one for each security. Sequential data like time series requires careful cross-validation to be set up so that we do not inadvertently introduce look-ahead bias or leakage.\n",
    "\n",
    "We can achieve this using the `MultipleTimeSeriesCV` class that we introduced in Milestone 3. We initialize it with the desired lengths for the train and test periods, the number of test periods that we would like to run, and the number of periods in our forecasting horizon. The `split()` method returns a generator yielding pairs of train and test indices, which we can then use to select outcomes and features. The number of pairs depends on the parameter `n_splits`.\n",
    "\n",
    "The test periods do not overlap and are located at the end of the period available in the data. After a test period is used, it becomes part of the training data that rolls forward and remains constant in size."
   ]
  },
  {
   "cell_type": "code",
   "execution_count": 15,
   "metadata": {
    "ExecuteTime": {
     "end_time": "2020-07-14T18:18:39.292362Z",
     "start_time": "2020-07-14T18:18:39.284047Z"
    }
   },
   "outputs": [],
   "source": [
    "class MultipleTimeSeriesCV:\n",
    "    \"\"\"Generates tuples of train_idx, test_idx pairs\n",
    "    Assumes the MultiIndex contains levels 'symbol' and 'date'\n",
    "    purges overlapping outcomes\"\"\"\n",
    "\n",
    "    def __init__(self,\n",
    "                 n_splits=3,\n",
    "                 train_period_length=126,\n",
    "                 test_period_length=21,\n",
    "                 lookahead=None,\n",
    "                 date_idx='date',\n",
    "                 shuffle=False):\n",
    "        self.n_splits = n_splits\n",
    "        self.lookahead = lookahead\n",
    "        self.test_length = test_period_length\n",
    "        self.train_length = train_period_length\n",
    "        self.shuffle = shuffle\n",
    "        self.date_idx = date_idx\n",
    "\n",
    "    def split(self, X, y=None, groups=None):\n",
    "        unique_dates = X.index.get_level_values(self.date_idx).unique()\n",
    "        days = sorted(unique_dates, reverse=True)\n",
    "        split_idx = []\n",
    "        for i in range(self.n_splits):\n",
    "            test_end_idx = i * self.test_length\n",
    "            test_start_idx = test_end_idx + self.test_length\n",
    "            train_end_idx = test_start_idx + self.lookahead - 1\n",
    "            train_start_idx = train_end_idx + self.train_length + self.lookahead - 1\n",
    "            split_idx.append([train_start_idx, train_end_idx,\n",
    "                              test_start_idx, test_end_idx])\n",
    "\n",
    "        dates = X.reset_index()[[self.date_idx]]\n",
    "        for train_start, train_end, test_start, test_end in split_idx:\n",
    "\n",
    "            train_idx = dates[(dates[self.date_idx] > days[train_start])\n",
    "                              & (dates.date <= days[train_end])].index\n",
    "            test_idx = dates[(dates.date > days[test_start])\n",
    "                             & (dates.date <= days[test_end])].index\n",
    "            if self.shuffle:\n",
    "                np.random.shuffle(list(train_idx))\n",
    "            yield train_idx.to_numpy(), test_idx.to_numpy()\n",
    "\n",
    "    def get_n_splits(self, X, y, groups=None):\n",
    "        return self.n_splits\n"
   ]
  },
  {
   "cell_type": "markdown",
   "metadata": {},
   "source": [
    "## Model Selection: Lookback, lookahead and roll-forward periods"
   ]
  },
  {
   "cell_type": "markdown",
   "metadata": {},
   "source": [
    "We'll use five years of training data to predict the 1-day forward returns for the following three months for all models."
   ]
  },
  {
   "cell_type": "code",
   "execution_count": 16,
   "metadata": {
    "ExecuteTime": {
     "end_time": "2020-07-14T18:18:39.304786Z",
     "start_time": "2020-07-14T18:18:39.293364Z"
    },
    "scrolled": true
   },
   "outputs": [],
   "source": [
    "train_length = 5 * YEAR\n",
    "test_length = 3 * MONTH"
   ]
  },
  {
   "cell_type": "code",
   "execution_count": 17,
   "metadata": {
    "ExecuteTime": {
     "end_time": "2020-07-14T18:18:39.314385Z",
     "start_time": "2020-07-14T18:18:39.305731Z"
    }
   },
   "outputs": [],
   "source": [
    "lookahead = 1"
   ]
  },
  {
   "cell_type": "markdown",
   "metadata": {},
   "source": [
    "We'll create 16 quarters worth of out-of-sample predictions so we can select the past 4 quarters to select a model for a subsequent quarter with three years total of out-of-sample forecasts."
   ]
  },
  {
   "cell_type": "code",
   "execution_count": 18,
   "metadata": {
    "ExecuteTime": {
     "end_time": "2020-07-14T18:18:39.322498Z",
     "start_time": "2020-07-14T18:18:39.315163Z"
    }
   },
   "outputs": [],
   "source": [
    "n_splits = 16"
   ]
  },
  {
   "cell_type": "code",
   "execution_count": 19,
   "metadata": {
    "ExecuteTime": {
     "end_time": "2020-07-14T18:18:39.330627Z",
     "start_time": "2020-07-14T18:18:39.323343Z"
    }
   },
   "outputs": [],
   "source": [
    "cv = MultipleTimeSeriesCV(n_splits=n_splits,\n",
    "                          test_period_length=test_length,\n",
    "                          lookahead=lookahead,\n",
    "                          train_period_length=train_length)"
   ]
  },
  {
   "cell_type": "markdown",
   "metadata": {},
   "source": [
    "Show rolling cross-validation periods - note that the folds move backwards in time:"
   ]
  },
  {
   "cell_type": "code",
   "execution_count": 20,
   "metadata": {
    "ExecuteTime": {
     "end_time": "2020-07-14T18:18:41.149600Z",
     "start_time": "2020-07-14T18:18:39.331503Z"
    }
   },
   "outputs": [
    {
     "name": "stdout",
     "output_type": "stream",
     "text": [
      "Split: 00 | # Train: 2011-11-08 - 2016-09-29 (1,260 days) | Test: 2016-09-30 - 2016-12-29 (63 days)\n",
      "Split: 01 | # Train: 2011-08-11 - 2016-06-30 (1,260 days) | Test: 2016-07-01 - 2016-09-29 (63 days)\n",
      "Split: 02 | # Train: 2011-05-16 - 2016-04-01 (1,260 days) | Test: 2016-04-04 - 2016-06-30 (63 days)\n",
      "Split: 03 | # Train: 2011-02-14 - 2015-12-30 (1,260 days) | Test: 2015-12-31 - 2016-04-01 (63 days)\n",
      "Split: 04 | # Train: 2010-11-17 - 2015-09-30 (1,260 days) | Test: 2015-10-01 - 2015-12-30 (63 days)\n",
      "Split: 05 | # Train: 2010-08-20 - 2015-07-01 (1,260 days) | Test: 2015-07-02 - 2015-09-30 (63 days)\n",
      "Split: 06 | # Train: 2010-05-25 - 2015-04-01 (1,260 days) | Test: 2015-04-02 - 2015-07-01 (63 days)\n",
      "Split: 07 | # Train: 2010-02-25 - 2014-12-30 (1,260 days) | Test: 2014-12-31 - 2015-04-01 (63 days)\n",
      "Split: 08 | # Train: 2009-11-26 - 2014-09-30 (1,260 days) | Test: 2014-10-01 - 2014-12-30 (63 days)\n",
      "Split: 09 | # Train: 2009-08-31 - 2014-07-03 (1,260 days) | Test: 2014-07-04 - 2014-09-30 (63 days)\n",
      "Split: 10 | # Train: 2009-06-03 - 2014-04-07 (1,260 days) | Test: 2014-04-08 - 2014-07-03 (63 days)\n",
      "Split: 11 | # Train: 2009-03-06 - 2014-01-08 (1,260 days) | Test: 2014-01-09 - 2014-04-07 (63 days)\n",
      "Split: 12 | # Train: 2008-12-09 - 2013-10-11 (1,260 days) | Test: 2013-10-14 - 2014-01-08 (63 days)\n",
      "Split: 13 | # Train: 2008-09-11 - 2013-07-16 (1,260 days) | Test: 2013-07-17 - 2013-10-11 (63 days)\n",
      "Split: 14 | # Train: 2008-06-16 - 2013-04-18 (1,260 days) | Test: 2013-04-19 - 2013-07-16 (63 days)\n",
      "Split: 15 | # Train: 2008-03-19 - 2013-01-21 (1,260 days) | Test: 2013-01-22 - 2013-04-18 (63 days)\n"
     ]
    }
   ],
   "source": [
    "for n_split, (train_idx, test_idx) in enumerate(cv.split(X=data)):\n",
    "    train = data.iloc[train_idx]\n",
    "    train_dates = train.index.get_level_values('date')\n",
    "    \n",
    "    test = data.iloc[test_idx]\n",
    "    test_dates = test.index.get_level_values('date')\n",
    "    \n",
    "    train_days = train.groupby(level=\"ticker\").size().value_counts().index[0]\n",
    "    train_start, train_end = train_dates.min().date(), train_dates.max().date()\n",
    "    \n",
    "    test_days = test.groupby(level=\"ticker\").size().value_counts().index[0]\n",
    "    test_start, test_end = test_dates.min().date(), test_dates.max().date()\n",
    "                                                  \n",
    "    print(f'Split: {n_split:02} | # Train: {train_start} - {train_end} ({train_days:5,.0f} days) | '\n",
    "          f'Test: {test_start} - {test_end} ({test_days} days)')"
   ]
  },
  {
   "cell_type": "markdown",
   "metadata": {},
   "source": [
    "## Baseline: Linear Regression"
   ]
  },
  {
   "cell_type": "markdown",
   "metadata": {},
   "source": [
    "In this section, we will use linear regression with and without shrinkage to predict returns\n",
    "and generate trading signals.\n",
    "\n",
    "First, we need to create the model inputs and outputs. We will apply the basic linear, Lasso and Ridge regression models to their predictive performance."
   ]
  },
  {
   "cell_type": "markdown",
   "metadata": {},
   "source": [
    "### One-hot encoding"
   ]
  },
  {
   "cell_type": "code",
   "execution_count": 21,
   "metadata": {
    "ExecuteTime": {
     "end_time": "2020-07-14T18:18:41.934556Z",
     "start_time": "2020-07-14T18:18:41.150473Z"
    }
   },
   "outputs": [],
   "source": [
    "df = (pd.get_dummies(data, columns=categoricals, drop_first=True)\n",
    "      .dropna()\n",
    "      .sort_index())\n",
    "\n",
    "X = df.drop(target, axis=1)\n",
    "y = df[target]"
   ]
  },
  {
   "cell_type": "markdown",
   "metadata": {},
   "source": [
    "### Run cross-validation"
   ]
  },
  {
   "cell_type": "markdown",
   "metadata": {},
   "source": [
    "Instantiate a `LinearRegression` object"
   ]
  },
  {
   "cell_type": "code",
   "execution_count": 22,
   "metadata": {
    "ExecuteTime": {
     "end_time": "2020-07-14T18:18:41.937201Z",
     "start_time": "2020-07-14T18:18:41.935505Z"
    },
    "scrolled": true
   },
   "outputs": [],
   "source": [
    "lr = LinearRegression()"
   ]
  },
  {
   "cell_type": "markdown",
   "metadata": {},
   "source": [
    "The cross-validation loop iterates over the train and test indices provided by `MultipleTimeSeriesCV`, selects features and outcomes, trains the model, and predicts the returns for the test features. "
   ]
  },
  {
   "cell_type": "markdown",
   "metadata": {},
   "source": [
    "Train and predict for each fold, capturing the predictions."
   ]
  },
  {
   "cell_type": "code",
   "execution_count": 23,
   "metadata": {
    "ExecuteTime": {
     "end_time": "2020-07-14T18:19:09.570642Z",
     "start_time": "2020-07-14T18:18:41.938091Z"
    }
   },
   "outputs": [
    {
     "name": "stdout",
     "output_type": "stream",
     "text": [
      "CPU times: user 2min 31s, sys: 15.8 s, total: 2min 47s\n",
      "Wall time: 28.1 s\n"
     ]
    }
   ],
   "source": [
    "%%time\n",
    "lr_preds = []\n",
    "for i, (train_idx, test_idx) in enumerate(cv.split(X=X)):\n",
    "    X_train, y_train = X.iloc[train_idx], y.iloc[train_idx]\n",
    "    X_test, y_test = X.iloc[test_idx], y.iloc[test_idx]\n",
    "    lr.fit(X_train, y_train)\n",
    "    y_pred = lr.predict(X_test)\n",
    "    lr_preds.append(y_test.to_frame('y_true').assign(y_pred=y_pred))\n",
    "lr_preds = pd.concat(lr_preds)"
   ]
  },
  {
   "cell_type": "code",
   "execution_count": 24,
   "metadata": {
    "ExecuteTime": {
     "end_time": "2020-07-14T18:19:09.617464Z",
     "start_time": "2020-07-14T18:19:09.588030Z"
    }
   },
   "outputs": [],
   "source": [
    "lr_preds.to_hdf(DATA_PATH / 'predictions.h5', 'linear_regression')"
   ]
  },
  {
   "cell_type": "markdown",
   "metadata": {},
   "source": [
    "### Evaluate Predictions using the Information Coefficient"
   ]
  },
  {
   "cell_type": "markdown",
   "metadata": {},
   "source": [
    "Across all sample days, the IC is around 2.50%."
   ]
  },
  {
   "cell_type": "code",
   "execution_count": 25,
   "metadata": {
    "ExecuteTime": {
     "end_time": "2020-07-14T18:19:09.757750Z",
     "start_time": "2020-07-14T18:19:09.619275Z"
    }
   },
   "outputs": [
    {
     "data": {
      "text/plain": [
       "'0.0250 (0.00%)'"
      ]
     },
     "execution_count": 25,
     "metadata": {},
     "output_type": "execute_result"
    }
   ],
   "source": [
    "lr_ic, p = spearmanr(lr_preds.y_true, lr_preds.y_pred)\n",
    "f'{lr_ic:.4f} ({p:.2%})'"
   ]
  },
  {
   "cell_type": "markdown",
   "metadata": {},
   "source": [
    "On a daily basis - which is more relevant because we will be trading on the predictions for a given day - the IC has a fairly low mean of 0.59%."
   ]
  },
  {
   "cell_type": "code",
   "execution_count": 26,
   "metadata": {
    "ExecuteTime": {
     "end_time": "2020-07-14T18:19:10.453476Z",
     "start_time": "2020-07-14T18:19:09.760654Z"
    }
   },
   "outputs": [],
   "source": [
    "daily_ic_lr = lr_preds.groupby(level='date').apply(lambda x: spearmanr(x.y_true, x.y_pred)[0])"
   ]
  },
  {
   "cell_type": "code",
   "execution_count": 27,
   "metadata": {
    "ExecuteTime": {
     "end_time": "2020-07-14T18:19:10.457100Z",
     "start_time": "2020-07-14T18:19:10.454466Z"
    }
   },
   "outputs": [
    {
     "data": {
      "text/plain": [
       "'Daily IC - Mean: 0.0060 | CV: 24.42'"
      ]
     },
     "execution_count": 27,
     "metadata": {},
     "output_type": "execute_result"
    }
   ],
   "source": [
    "f'Daily IC - Mean: {daily_ic_lr.mean():.4f} | CV: {daily_ic_lr.std()/daily_ic_lr.mean():.2f}'"
   ]
  },
  {
   "cell_type": "code",
   "execution_count": 28,
   "metadata": {
    "ExecuteTime": {
     "end_time": "2020-07-14T18:19:10.602291Z",
     "start_time": "2020-07-14T18:19:10.457891Z"
    }
   },
   "outputs": [
    {
     "data": {
      "image/png": "[encoded data removed]",
      "text/plain": [
       "<Figure size 640x480 with 1 Axes>"
      ]
     },
     "metadata": {},
     "output_type": "display_data"
    }
   ],
   "source": [
    "sns.boxplot(daily_ic_lr)\n",
    "sns.despine();"
   ]
  },
  {
   "cell_type": "markdown",
   "metadata": {},
   "source": [
    "## Regularized Linear Regression"
   ]
  },
  {
   "cell_type": "markdown",
   "metadata": {},
   "source": [
    "We will now move on to the regularized ridge model, which we will use to evaluate whether parameter constraints improve on the linear regression's predictive performance. \n",
    "\n",
    "The Ridge and Lasso models allow us to select the hyperparameter `alpha` that determines the weight of the penalty term in the model's objective function."
   ]
  },
  {
   "cell_type": "markdown",
   "metadata": {},
   "source": [
    "We define a range of `alpha` penalty values, where larger values produce more regularization (see [docs](https://scikit-learn.org/stable/modules/generated/sklearn.linear_model.Ridge.html))"
   ]
  },
  {
   "cell_type": "code",
   "execution_count": 27,
   "metadata": {
    "ExecuteTime": {
     "end_time": "2020-07-14T18:19:10.605464Z",
     "start_time": "2020-07-14T18:19:10.603397Z"
    }
   },
   "outputs": [],
   "source": [
    "ridge_alphas = np.logspace(-5, 15, 21)[::2]"
   ]
  },
  {
   "cell_type": "code",
   "execution_count": 28,
   "metadata": {
    "ExecuteTime": {
     "end_time": "2020-07-14T18:19:10.620698Z",
     "start_time": "2020-07-14T18:19:10.606371Z"
    }
   },
   "outputs": [
    {
     "data": {
      "text/plain": [
       "array([1.e-05, 1.e-03, 1.e-01, 1.e+01, 1.e+03, 1.e+05, 1.e+07, 1.e+09,\n",
       "       1.e+11, 1.e+13, 1.e+15])"
      ]
     },
     "execution_count": 28,
     "metadata": {},
     "output_type": "execute_result"
    }
   ],
   "source": [
    "ridge_alphas"
   ]
  },
  {
   "cell_type": "markdown",
   "metadata": {},
   "source": [
    "### Ridge Regression"
   ]
  },
  {
   "cell_type": "markdown",
   "metadata": {},
   "source": [
    "The hyperparameter `alpha` implies an additional inner for loop that generates predictions for each fold and `alpha` value:"
   ]
  },
  {
   "cell_type": "code",
   "execution_count": 29,
   "metadata": {
    "ExecuteTime": {
     "end_time": "2020-07-14T18:19:51.788260Z",
     "start_time": "2020-07-14T18:19:10.621532Z"
    }
   },
   "outputs": [
    {
     "name": "stdout",
     "output_type": "stream",
     "text": [
      "0 1 2 3 4 5 6 7 8 9 10 11 12 13 14 15 \n",
      "CPU times: user 4min 39s, sys: 11.1 s, total: 4min 50s\n",
      "Wall time: 41.2 s\n"
     ]
    }
   ],
   "source": [
    "%%time\n",
    "ridge_preds = []\n",
    "scaler = MinMaxScaler()\n",
    "for i, (train_idx, test_idx) in enumerate(cv.split(X=X)):\n",
    "    print(f'{i}', end=' ', flush=True)\n",
    "    X_train, y_train = X.iloc[train_idx], y.iloc[train_idx]\n",
    "    X_train = scaler.fit_transform(X_train)\n",
    "    X_test, y_test = X.iloc[test_idx], y.iloc[test_idx]\n",
    "    X_test = scaler.transform(X_test)\n",
    "    cv_predictions = []\n",
    "    for alpha in ridge_alphas:\n",
    "        ridge = Ridge(alpha=alpha)\n",
    "        ridge.fit(X_train, y_train)\n",
    "        y_pred = ridge.predict(X_test)\n",
    "        cv_predictions.append(pd.DataFrame({alpha: y_pred},\n",
    "                                           index=y_test.index))\n",
    "    ridge_preds.append(pd.concat(cv_predictions, axis=1).assign(y_test=y_test))\n",
    "ridge_preds = pd.concat(ridge_preds)\n",
    "print()"
   ]
  },
  {
   "cell_type": "markdown",
   "metadata": {},
   "source": [
    "#### Evaluate Predictions"
   ]
  },
  {
   "cell_type": "code",
   "execution_count": 30,
   "metadata": {
    "ExecuteTime": {
     "end_time": "2020-07-14T18:19:59.444291Z",
     "start_time": "2020-07-14T18:19:51.789421Z"
    }
   },
   "outputs": [],
   "source": [
    "ic_by_day_ridge = {}\n",
    "for alpha in ridge_alphas:\n",
    "    ic_by_day_ridge[alpha] = (ridge_preds.groupby(level='date')\n",
    "                              .apply(lambda x: spearmanr(x[alpha], x.y_test)[0])\n",
    "                              .mean())"
   ]
  },
  {
   "cell_type": "code",
   "execution_count": 31,
   "metadata": {
    "ExecuteTime": {
     "end_time": "2020-07-14T18:19:59.447539Z",
     "start_time": "2020-07-14T18:19:59.445253Z"
    }
   },
   "outputs": [],
   "source": [
    "best_alpha_ridge = pd.Series(ic_by_day_ridge).idxmax()"
   ]
  },
  {
   "cell_type": "code",
   "execution_count": 32,
   "metadata": {
    "ExecuteTime": {
     "end_time": "2020-07-14T18:20:00.173058Z",
     "start_time": "2020-07-14T18:19:59.448379Z"
    }
   },
   "outputs": [],
   "source": [
    "best_ic_by_day_ridge = (ridge_preds.groupby(level='date')\n",
    "                        .apply(lambda x: spearmanr(x[best_alpha_ridge], x.y_test)[0]))"
   ]
  },
  {
   "cell_type": "markdown",
   "metadata": {},
   "source": [
    "We obtain a daily average IC of 1.25%. This results improves over the linear regression on average, while it also has lower variability."
   ]
  },
  {
   "cell_type": "code",
   "execution_count": 33,
   "metadata": {
    "ExecuteTime": {
     "end_time": "2020-07-14T18:20:00.176354Z",
     "start_time": "2020-07-14T18:20:00.173909Z"
    }
   },
   "outputs": [
    {
     "name": "stdout",
     "output_type": "stream",
     "text": [
      "Daily IC - Mean: 0.0125 | CV: 11.62\n"
     ]
    }
   ],
   "source": [
    "print(f'Daily IC - Mean: {best_ic_by_day_ridge.mean():.4f} | '\n",
    "      f'CV: {best_ic_by_day_ridge.std()/best_ic_by_day_ridge.mean():.2f}')"
   ]
  },
  {
   "cell_type": "markdown",
   "metadata": {},
   "source": [
    "The below chart shows how the daily average IC changed for different values of `alpha`, and which penalty produced the best result:"
   ]
  },
  {
   "cell_type": "code",
   "execution_count": 34,
   "metadata": {
    "ExecuteTime": {
     "end_time": "2020-07-14T18:20:00.766857Z",
     "start_time": "2020-07-14T18:20:00.177164Z"
    }
   },
   "outputs": [
    {
     "data": {
      "image/png": "[encoded data removed]",
      "text/plain": [
       "<Figure size 1008x288 with 1 Axes>"
      ]
     },
     "metadata": {},
     "output_type": "display_data"
    }
   ],
   "source": [
    "ax = pd.Series(ic_by_day_ridge).plot(figsize=(14, 4),\n",
    "                                  logx=True, \n",
    "                                  title='Ridge Regression Cross-Validation Performance')\n",
    "ax.axvline(best_alpha_ridge, c='k', ls='--', lw=1)\n",
    "ax.set_ylabel('Daily IC (Mean)')\n",
    "ax.set_xlabel('Alpha')\n",
    "sns.despine()\n",
    "plt.tight_layout();"
   ]
  },
  {
   "cell_type": "code",
   "execution_count": 35,
   "metadata": {
    "ExecuteTime": {
     "end_time": "2020-07-14T18:20:01.625756Z",
     "start_time": "2020-07-14T18:20:00.767742Z"
    }
   },
   "outputs": [
    {
     "data": {
      "image/png": "[encoded data removed]",
      "text/plain": [
       "<Figure size 720x288 with 2 Axes>"
      ]
     },
     "metadata": {},
     "output_type": "display_data"
    }
   ],
   "source": [
    "fig, axes = plt.subplots(ncols=2, figsize=(10, 4), sharey=True)\n",
    "\n",
    "sns.boxplot(daily_ic_lr, ax=axes[0], orient='v')\n",
    "axes[0].set_title('Linear Regression')\n",
    "\n",
    "ridge_daily_ic = ridge_preds.groupby(level='date').apply(lambda x: spearmanr(x[best_alpha_ridge], x.y_test)[0])\n",
    "sns.boxplot(ridge_daily_ic, ax=axes[1], orient='v')\n",
    "axes[0].set_title('Linear Regression')\n",
    "axes[1].set_title('Ridge Regression')\n",
    "sns.despine()\n",
    "fig.tight_layout();"
   ]
  },
  {
   "cell_type": "markdown",
   "metadata": {},
   "source": [
    "#### Persist results"
   ]
  },
  {
   "cell_type": "code",
   "execution_count": 36,
   "metadata": {
    "ExecuteTime": {
     "end_time": "2020-07-14T18:20:01.637990Z",
     "start_time": "2020-07-14T18:20:01.626874Z"
    }
   },
   "outputs": [],
   "source": [
    "ridge_preds[best_alpha_ridge].to_hdf(DATA_PATH / 'predictions.h5', 'ridge_regression')"
   ]
  },
  {
   "cell_type": "markdown",
   "metadata": {},
   "source": [
    "### Lasso Regression"
   ]
  },
  {
   "cell_type": "markdown",
   "metadata": {},
   "source": [
    "The lasso implementation looks very similar to the ridge model we just ran. The main difference is that lasso needs to arrive at a solution using iterative coordinate descent, whereas ridge regression can rely on a closed-form solution. This can lead to longer training times."
   ]
  },
  {
   "cell_type": "code",
   "execution_count": null,
   "metadata": {
    "ExecuteTime": {
     "end_time": "2020-07-13T19:15:34.586147Z",
     "start_time": "2020-07-13T19:15:23.599Z"
    }
   },
   "outputs": [],
   "source": [
    "lasso_alphas = np.logspace(-15, -5, 11)"
   ]
  },
  {
   "cell_type": "code",
   "execution_count": null,
   "metadata": {
    "ExecuteTime": {
     "end_time": "2020-07-13T19:15:34.586754Z",
     "start_time": "2020-07-13T19:15:23.603Z"
    }
   },
   "outputs": [],
   "source": [
    "lasso_preds = []\n",
    "scaler = MinMaxScaler()\n",
    "for i, (train_idx, test_idx) in enumerate(cv.split(X=X)):\n",
    "    print(f'\\nFold {i}')\n",
    "    X_train, y_train = X.iloc[train_idx], y.iloc[train_idx]\n",
    "    X_test, y_test = X.iloc[test_idx], y.iloc[test_idx]\n",
    "    X_train = scaler.fit_transform(X_train)\n",
    "    X_test, y_test = X.iloc[test_idx], y.iloc[test_idx]\n",
    "    X_test = scaler.transform(X_test)    \n",
    "    cv_predictions = []\n",
    "    for alpha in lasso_alphas:\n",
    "        print(f'{alpha:.0e}', end=' ', flush=True)\n",
    "        lasso = Lasso(alpha=alpha)\n",
    "        lasso.fit(X_train, y_train)\n",
    "        y_pred = lasso.predict(X_test)\n",
    "        cv_predictions.append(pd.DataFrame({alpha: y_pred},\n",
    "                                           index=y_test.index))\n",
    "    lasso_preds.append(pd.concat(cv_predictions, axis=1).assign(y_test=y_test))\n",
    "lasso_preds = pd.concat(lasso_preds)"
   ]
  },
  {
   "cell_type": "markdown",
   "metadata": {},
   "source": [
    "#### Evaluate Predictions"
   ]
  },
  {
   "cell_type": "code",
   "execution_count": null,
   "metadata": {
    "ExecuteTime": {
     "end_time": "2020-07-13T19:15:34.587654Z",
     "start_time": "2020-07-13T19:15:23.607Z"
    }
   },
   "outputs": [],
   "source": [
    "ic_by_day_lasso = {}\n",
    "for alpha in lasso_alphas:\n",
    "    ic_by_day_lasso[alpha] = (lasso_preds.groupby(level='date')\n",
    "                              .apply(lambda x: spearmanr(x[alpha], x.y_test)[0]).mean())"
   ]
  },
  {
   "cell_type": "code",
   "execution_count": null,
   "metadata": {
    "ExecuteTime": {
     "end_time": "2020-07-13T19:15:34.588590Z",
     "start_time": "2020-07-13T19:15:23.610Z"
    }
   },
   "outputs": [],
   "source": [
    "pd.Series(ic_by_day_lasso)"
   ]
  },
  {
   "cell_type": "code",
   "execution_count": null,
   "metadata": {
    "ExecuteTime": {
     "end_time": "2020-07-13T19:15:34.589453Z",
     "start_time": "2020-07-13T19:15:23.614Z"
    }
   },
   "outputs": [],
   "source": [
    "ax = pd.Series(ic_by_day_lasso).plot(figsize=(14, 4),\n",
    "                                  logx=True, \n",
    "                                  title='Lasso Regression Cross-Validation Performance')\n",
    "ax.axvline(pd.Series(ic_by_day_lasso).idxmax(), c='k', ls='--', lw=1)\n",
    "ax.set_ylabel('Daily IC (Mean)')\n",
    "ax.set_xlabel('Alpha')\n",
    "sns.despine()\n",
    "plt.tight_layout();"
   ]
  }
 ],
 "metadata": {
  "kernelspec": {
   "display_name": "Python 3 (ipykernel)",
   "language": "python",
   "name": "python3"
  },
  "language_info": {
   "codemirror_mode": {
    "name": "ipython",
    "version": 3
   },
   "file_extension": ".py",
   "mimetype": "text/x-python",
   "name": "python",
   "nbconvert_exporter": "python",
   "pygments_lexer": "ipython3",
   "version": "3.7.0"
  },
  "toc": {
   "base_numbering": 1,
   "nav_menu": {},
   "number_sections": true,
   "sideBar": true,
   "skip_h1_title": true,
   "title_cell": "Table of Contents",
   "title_sidebar": "Contents",
   "toc_cell": false,
   "toc_position": {
    "height": "calc(100% - 180px)",
    "left": "10px",
    "top": "150px",
    "width": "292.016px"
   },
   "toc_section_display": true,
   "toc_window_display": true
  }
 },
 "nbformat": 4,
 "nbformat_minor": 4
}
